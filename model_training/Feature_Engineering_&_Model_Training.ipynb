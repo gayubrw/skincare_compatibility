{
  "cells": [
    {
      "cell_type": "markdown",
      "metadata": {
        "id": "Az7CC09dargG"
      },
      "source": [
        "# Skincare Compatibility Model Training\n",
        "\n",
        "Notebook ini digunakan untuk training model ML yang memprediksi kompatibilitas produk skincare berdasarkan analisis bahan-bahan aktif.\n",
        "\n",
        "## Workflow\n",
        "1. **Load Data** - Import dataset produk dan aturan kompatibilitas\n",
        "2. **Preprocessing** - Normalisasi dan prepare data\n",
        "3. **Conflict Detection** - Identify conflicting ingredient pairs\n",
        "4. **Generate Balanced Data** - Create compatible AND incompatible pairs\n",
        "5. **Feature Engineering** - Extract fitur dari ingredients\n",
        "6. **Model Training** - Train RandomForest Classifier with balanced data\n",
        "7. **Model Evaluation** - Evaluate performance\n",
        "8. **Save Model** - Export model untuk production\n",
        "9. **Testing** - Test prediction function\n",
        "\n",
        "---"
      ]
    },
    {
      "cell_type": "markdown",
      "source": [
        "# Load Dataset"
      ],
      "metadata": {
        "id": "GoZLiw1ablVG"
      }
    },
    {
      "cell_type": "code",
      "execution_count": 1,
      "metadata": {
        "colab": {
          "base_uri": "https://localhost:8080/",
          "height": 241
        },
        "id": "cOiZDEaQbRWw",
        "outputId": "3f7b95f0-febc-45b3-80cf-fbd446649a7f"
      },
      "outputs": [
        {
          "output_type": "stream",
          "name": "stdout",
          "text": [
            "Produk: (2610, 7)\n",
            "Aturan kompatibilitas: (5, 5)\n"
          ]
        },
        {
          "output_type": "execute_result",
          "data": {
            "text/plain": [
              "                                        product_name  \\\n",
              "0  The Ordinary Natural Moisturising Factors + HA...   \n",
              "1      CeraVe Facial Moisturising Lotion SPF 25 52ml   \n",
              "2  The Ordinary Hyaluronic Acid 2% + B5 Hydration...   \n",
              "3          AMELIORATE Transforming Body Lotion 200ml   \n",
              "4                     CeraVe Moisturising Cream 454g   \n",
              "\n",
              "                                  parsed_ingredients  \n",
              "0  [isoleucine, citric acid, alanine, glycine, hi...  \n",
              "1  [homosalate, butyl methoxydibenzoylmethane, ph...  \n",
              "2          [citric acid, ahnfeltia concinna extract]  \n",
              "3  [urea, lactic acid, allantoin, serine, sodium ...  \n",
              "4                    [phytosphingosine, cholesterol]  "
            ],
            "text/html": [
              "\n",
              "  <div id=\"df-4303f3dc-fd10-48c2-8150-25498a8355d5\" class=\"colab-df-container\">\n",
              "    <div>\n",
              "<style scoped>\n",
              "    .dataframe tbody tr th:only-of-type {\n",
              "        vertical-align: middle;\n",
              "    }\n",
              "\n",
              "    .dataframe tbody tr th {\n",
              "        vertical-align: top;\n",
              "    }\n",
              "\n",
              "    .dataframe thead th {\n",
              "        text-align: right;\n",
              "    }\n",
              "</style>\n",
              "<table border=\"1\" class=\"dataframe\">\n",
              "  <thead>\n",
              "    <tr style=\"text-align: right;\">\n",
              "      <th></th>\n",
              "      <th>product_name</th>\n",
              "      <th>parsed_ingredients</th>\n",
              "    </tr>\n",
              "  </thead>\n",
              "  <tbody>\n",
              "    <tr>\n",
              "      <th>0</th>\n",
              "      <td>The Ordinary Natural Moisturising Factors + HA...</td>\n",
              "      <td>[isoleucine, citric acid, alanine, glycine, hi...</td>\n",
              "    </tr>\n",
              "    <tr>\n",
              "      <th>1</th>\n",
              "      <td>CeraVe Facial Moisturising Lotion SPF 25 52ml</td>\n",
              "      <td>[homosalate, butyl methoxydibenzoylmethane, ph...</td>\n",
              "    </tr>\n",
              "    <tr>\n",
              "      <th>2</th>\n",
              "      <td>The Ordinary Hyaluronic Acid 2% + B5 Hydration...</td>\n",
              "      <td>[citric acid, ahnfeltia concinna extract]</td>\n",
              "    </tr>\n",
              "    <tr>\n",
              "      <th>3</th>\n",
              "      <td>AMELIORATE Transforming Body Lotion 200ml</td>\n",
              "      <td>[urea, lactic acid, allantoin, serine, sodium ...</td>\n",
              "    </tr>\n",
              "    <tr>\n",
              "      <th>4</th>\n",
              "      <td>CeraVe Moisturising Cream 454g</td>\n",
              "      <td>[phytosphingosine, cholesterol]</td>\n",
              "    </tr>\n",
              "  </tbody>\n",
              "</table>\n",
              "</div>\n",
              "    <div class=\"colab-df-buttons\">\n",
              "\n",
              "  <div class=\"colab-df-container\">\n",
              "    <button class=\"colab-df-convert\" onclick=\"convertToInteractive('df-4303f3dc-fd10-48c2-8150-25498a8355d5')\"\n",
              "            title=\"Convert this dataframe to an interactive table.\"\n",
              "            style=\"display:none;\">\n",
              "\n",
              "  <svg xmlns=\"http://www.w3.org/2000/svg\" height=\"24px\" viewBox=\"0 -960 960 960\">\n",
              "    <path d=\"M120-120v-720h720v720H120Zm60-500h600v-160H180v160Zm220 220h160v-160H400v160Zm0 220h160v-160H400v160ZM180-400h160v-160H180v160Zm440 0h160v-160H620v160ZM180-180h160v-160H180v160Zm440 0h160v-160H620v160Z\"/>\n",
              "  </svg>\n",
              "    </button>\n",
              "\n",
              "  <style>\n",
              "    .colab-df-container {\n",
              "      display:flex;\n",
              "      gap: 12px;\n",
              "    }\n",
              "\n",
              "    .colab-df-convert {\n",
              "      background-color: #E8F0FE;\n",
              "      border: none;\n",
              "      border-radius: 50%;\n",
              "      cursor: pointer;\n",
              "      display: none;\n",
              "      fill: #1967D2;\n",
              "      height: 32px;\n",
              "      padding: 0 0 0 0;\n",
              "      width: 32px;\n",
              "    }\n",
              "\n",
              "    .colab-df-convert:hover {\n",
              "      background-color: #E2EBFA;\n",
              "      box-shadow: 0px 1px 2px rgba(60, 64, 67, 0.3), 0px 1px 3px 1px rgba(60, 64, 67, 0.15);\n",
              "      fill: #174EA6;\n",
              "    }\n",
              "\n",
              "    .colab-df-buttons div {\n",
              "      margin-bottom: 4px;\n",
              "    }\n",
              "\n",
              "    [theme=dark] .colab-df-convert {\n",
              "      background-color: #3B4455;\n",
              "      fill: #D2E3FC;\n",
              "    }\n",
              "\n",
              "    [theme=dark] .colab-df-convert:hover {\n",
              "      background-color: #434B5C;\n",
              "      box-shadow: 0px 1px 3px 1px rgba(0, 0, 0, 0.15);\n",
              "      filter: drop-shadow(0px 1px 2px rgba(0, 0, 0, 0.3));\n",
              "      fill: #FFFFFF;\n",
              "    }\n",
              "  </style>\n",
              "\n",
              "    <script>\n",
              "      const buttonEl =\n",
              "        document.querySelector('#df-4303f3dc-fd10-48c2-8150-25498a8355d5 button.colab-df-convert');\n",
              "      buttonEl.style.display =\n",
              "        google.colab.kernel.accessAllowed ? 'block' : 'none';\n",
              "\n",
              "      async function convertToInteractive(key) {\n",
              "        const element = document.querySelector('#df-4303f3dc-fd10-48c2-8150-25498a8355d5');\n",
              "        const dataTable =\n",
              "          await google.colab.kernel.invokeFunction('convertToInteractive',\n",
              "                                                    [key], {});\n",
              "        if (!dataTable) return;\n",
              "\n",
              "        const docLinkHtml = 'Like what you see? Visit the ' +\n",
              "          '<a target=\"_blank\" href=https://colab.research.google.com/notebooks/data_table.ipynb>data table notebook</a>'\n",
              "          + ' to learn more about interactive tables.';\n",
              "        element.innerHTML = '';\n",
              "        dataTable['output_type'] = 'display_data';\n",
              "        await google.colab.output.renderOutput(dataTable, element);\n",
              "        const docLink = document.createElement('div');\n",
              "        docLink.innerHTML = docLinkHtml;\n",
              "        element.appendChild(docLink);\n",
              "      }\n",
              "    </script>\n",
              "  </div>\n",
              "\n",
              "\n",
              "    <div id=\"df-d52a3208-50c8-4f52-94ef-ff2c6fe6d63e\">\n",
              "      <button class=\"colab-df-quickchart\" onclick=\"quickchart('df-d52a3208-50c8-4f52-94ef-ff2c6fe6d63e')\"\n",
              "                title=\"Suggest charts\"\n",
              "                style=\"display:none;\">\n",
              "\n",
              "<svg xmlns=\"http://www.w3.org/2000/svg\" height=\"24px\"viewBox=\"0 0 24 24\"\n",
              "     width=\"24px\">\n",
              "    <g>\n",
              "        <path d=\"M19 3H5c-1.1 0-2 .9-2 2v14c0 1.1.9 2 2 2h14c1.1 0 2-.9 2-2V5c0-1.1-.9-2-2-2zM9 17H7v-7h2v7zm4 0h-2V7h2v10zm4 0h-2v-4h2v4z\"/>\n",
              "    </g>\n",
              "</svg>\n",
              "      </button>\n",
              "\n",
              "<style>\n",
              "  .colab-df-quickchart {\n",
              "      --bg-color: #E8F0FE;\n",
              "      --fill-color: #1967D2;\n",
              "      --hover-bg-color: #E2EBFA;\n",
              "      --hover-fill-color: #174EA6;\n",
              "      --disabled-fill-color: #AAA;\n",
              "      --disabled-bg-color: #DDD;\n",
              "  }\n",
              "\n",
              "  [theme=dark] .colab-df-quickchart {\n",
              "      --bg-color: #3B4455;\n",
              "      --fill-color: #D2E3FC;\n",
              "      --hover-bg-color: #434B5C;\n",
              "      --hover-fill-color: #FFFFFF;\n",
              "      --disabled-bg-color: #3B4455;\n",
              "      --disabled-fill-color: #666;\n",
              "  }\n",
              "\n",
              "  .colab-df-quickchart {\n",
              "    background-color: var(--bg-color);\n",
              "    border: none;\n",
              "    border-radius: 50%;\n",
              "    cursor: pointer;\n",
              "    display: none;\n",
              "    fill: var(--fill-color);\n",
              "    height: 32px;\n",
              "    padding: 0;\n",
              "    width: 32px;\n",
              "  }\n",
              "\n",
              "  .colab-df-quickchart:hover {\n",
              "    background-color: var(--hover-bg-color);\n",
              "    box-shadow: 0 1px 2px rgba(60, 64, 67, 0.3), 0 1px 3px 1px rgba(60, 64, 67, 0.15);\n",
              "    fill: var(--button-hover-fill-color);\n",
              "  }\n",
              "\n",
              "  .colab-df-quickchart-complete:disabled,\n",
              "  .colab-df-quickchart-complete:disabled:hover {\n",
              "    background-color: var(--disabled-bg-color);\n",
              "    fill: var(--disabled-fill-color);\n",
              "    box-shadow: none;\n",
              "  }\n",
              "\n",
              "  .colab-df-spinner {\n",
              "    border: 2px solid var(--fill-color);\n",
              "    border-color: transparent;\n",
              "    border-bottom-color: var(--fill-color);\n",
              "    animation:\n",
              "      spin 1s steps(1) infinite;\n",
              "  }\n",
              "\n",
              "  @keyframes spin {\n",
              "    0% {\n",
              "      border-color: transparent;\n",
              "      border-bottom-color: var(--fill-color);\n",
              "      border-left-color: var(--fill-color);\n",
              "    }\n",
              "    20% {\n",
              "      border-color: transparent;\n",
              "      border-left-color: var(--fill-color);\n",
              "      border-top-color: var(--fill-color);\n",
              "    }\n",
              "    30% {\n",
              "      border-color: transparent;\n",
              "      border-left-color: var(--fill-color);\n",
              "      border-top-color: var(--fill-color);\n",
              "      border-right-color: var(--fill-color);\n",
              "    }\n",
              "    40% {\n",
              "      border-color: transparent;\n",
              "      border-right-color: var(--fill-color);\n",
              "      border-top-color: var(--fill-color);\n",
              "    }\n",
              "    60% {\n",
              "      border-color: transparent;\n",
              "      border-right-color: var(--fill-color);\n",
              "    }\n",
              "    80% {\n",
              "      border-color: transparent;\n",
              "      border-right-color: var(--fill-color);\n",
              "      border-bottom-color: var(--fill-color);\n",
              "    }\n",
              "    90% {\n",
              "      border-color: transparent;\n",
              "      border-bottom-color: var(--fill-color);\n",
              "    }\n",
              "  }\n",
              "</style>\n",
              "\n",
              "      <script>\n",
              "        async function quickchart(key) {\n",
              "          const quickchartButtonEl =\n",
              "            document.querySelector('#' + key + ' button');\n",
              "          quickchartButtonEl.disabled = true;  // To prevent multiple clicks.\n",
              "          quickchartButtonEl.classList.add('colab-df-spinner');\n",
              "          try {\n",
              "            const charts = await google.colab.kernel.invokeFunction(\n",
              "                'suggestCharts', [key], {});\n",
              "          } catch (error) {\n",
              "            console.error('Error during call to suggestCharts:', error);\n",
              "          }\n",
              "          quickchartButtonEl.classList.remove('colab-df-spinner');\n",
              "          quickchartButtonEl.classList.add('colab-df-quickchart-complete');\n",
              "        }\n",
              "        (() => {\n",
              "          let quickchartButtonEl =\n",
              "            document.querySelector('#df-d52a3208-50c8-4f52-94ef-ff2c6fe6d63e button');\n",
              "          quickchartButtonEl.style.display =\n",
              "            google.colab.kernel.accessAllowed ? 'block' : 'none';\n",
              "        })();\n",
              "      </script>\n",
              "    </div>\n",
              "\n",
              "    </div>\n",
              "  </div>\n"
            ],
            "application/vnd.google.colaboratory.intrinsic+json": {
              "type": "dataframe",
              "variable_name": "df_products",
              "summary": "{\n  \"name\": \"df_products\",\n  \"rows\": 2610,\n  \"fields\": [\n    {\n      \"column\": \"product_name\",\n      \"properties\": {\n        \"dtype\": \"string\",\n        \"num_unique_values\": 2610,\n        \"samples\": [\n          \"Instant Foaming Cleanser\",\n          \"Turbo Booster C Powder\",\n          \"Indeed Labs Pepta-Bright 30ml\"\n        ],\n        \"semantic_type\": \"\",\n        \"description\": \"\"\n      }\n    },\n    {\n      \"column\": \"parsed_ingredients\",\n      \"properties\": {\n        \"dtype\": \"object\",\n        \"semantic_type\": \"\",\n        \"description\": \"\"\n      }\n    }\n  ]\n}"
            }
          },
          "metadata": {},
          "execution_count": 1
        }
      ],
      "source": [
        "import pandas as pd\n",
        "from itertools import combinations\n",
        "from tqdm import tqdm\n",
        "\n",
        "# Ganti path sesuai lokasi file di Colab\n",
        "df_products = pd.read_csv(\"unified_cleaned_products.csv\", encoding=\"utf-8\", engine=\"python\")\n",
        "df_rules = pd.read_csv(\"compatibility_rules.csv\", encoding=\"utf-8\", engine=\"python\")\n",
        "\n",
        "print(\"Produk:\", df_products.shape)\n",
        "print(\"Aturan kompatibilitas:\", df_rules.shape)\n",
        "\n",
        "# Ambil kolom penting\n",
        "df_products = df_products[['product_name', 'parsed_ingredients']]\n",
        "df_products.dropna(subset=['parsed_ingredients'], inplace=True)\n",
        "\n",
        "# Pastikan kolom ingredients dalam bentuk list\n",
        "import ast\n",
        "df_products['parsed_ingredients'] = df_products['parsed_ingredients'].apply(\n",
        "    lambda x: ast.literal_eval(x) if isinstance(x, str) else x\n",
        ")\n",
        "\n",
        "df_products.head()\n"
      ]
    },
    {
      "cell_type": "markdown",
      "source": [
        "# Extract Conflicting Pairs from Rules"
      ],
      "metadata": {
        "id": "KCxJnndUbzaT"
      }
    },
    {
      "cell_type": "code",
      "execution_count": 2,
      "metadata": {
        "colab": {
          "base_uri": "https://localhost:8080/"
        },
        "id": "rm4cfJqvbxOO",
        "outputId": "df65939f-d597-4910-d268-131b79128525"
      },
      "outputs": [
        {
          "output_type": "stream",
          "name": "stdout",
          "text": [
            "Found 3 conflicting ingredient pairs:\n",
            "   - retinol + vitamin c (l-ascorbic acid)\n",
            "   - aha/bha + retinol\n",
            "   - benzoyl peroxide + retinol\n",
            "\n",
            "Conflict detection function ready!\n"
          ]
        }
      ],
      "source": [
        "# Extract pairs that are marked as \"Tidak Cocok\" (incompatible)\n",
        "conflicting_pairs = []\n",
        "for _, row in df_rules.iterrows():\n",
        "    if row['Kompatibilitas'] == 'Tidak Cocok':\n",
        "        pair = (row['Bahan_A'].lower(), row['Bahan_B'].lower())\n",
        "        conflicting_pairs.append(pair)\n",
        "\n",
        "print(f\"Found {len(conflicting_pairs)} conflicting ingredient pairs:\")\n",
        "for pair in conflicting_pairs:\n",
        "    print(f\"   - {pair[0]} + {pair[1]}\")\n",
        "\n",
        "# Function to check if two ingredient lists have conflicts\n",
        "def has_conflict(ing1_list, ing2_list):\n",
        "    \"\"\"Check if two ingredient lists contain known conflicting pairs.\"\"\"\n",
        "    for ing1 in ing1_list:\n",
        "        for ing2 in ing2_list:\n",
        "            for conflict in conflicting_pairs:\n",
        "                # Check if conflict pair exists (bidirectional)\n",
        "                if (conflict[0] in ing1.lower() and conflict[1] in ing2.lower()) or \\\n",
        "                   (conflict[1] in ing1.lower() and conflict[0] in ing2.lower()):\n",
        "                    return True\n",
        "    return False\n",
        "\n",
        "print(\"\\nConflict detection function ready!\")\n"
      ]
    },
    {
      "cell_type": "markdown",
      "source": [
        "# Feature Engineering Function"
      ],
      "metadata": {
        "id": "7bRJzChYcDW_"
      }
    },
    {
      "cell_type": "code",
      "execution_count": 3,
      "metadata": {
        "id": "mHDtX1Y0b1Ra",
        "colab": {
          "base_uri": "https://localhost:8080/"
        },
        "outputId": "340b0db1-b05f-4a20-928f-09fa0cbfdeb7"
      },
      "outputs": [
        {
          "output_type": "stream",
          "name": "stdout",
          "text": [
            "Feature engineering function ready!\n",
            "   Features: len_diff, shared_ingredients, jaccard, cosine_sim\n"
          ]
        }
      ],
      "source": [
        "from sklearn.feature_extraction.text import CountVectorizer\n",
        "from sklearn.metrics.pairwise import cosine_similarity\n",
        "\n",
        "def calculate_features(ing1, ing2):\n",
        "    \"\"\"Calculate 4 features for a product pair.\"\"\"\n",
        "    # Feature 1: Length difference\n",
        "    len_diff = abs(len(ing1) - len(ing2))\n",
        "\n",
        "    # Feature 2: Shared ingredients count\n",
        "    shared = len(set(ing1) & set(ing2))\n",
        "\n",
        "    # Feature 3: Jaccard similarity\n",
        "    union = set(ing1) | set(ing2)\n",
        "    jaccard = len(set(ing1) & set(ing2)) / len(union) if len(union) > 0 else 0\n",
        "\n",
        "    # Feature 4: Cosine similarity\n",
        "    try:\n",
        "        vec = CountVectorizer().fit([\" \".join(ing1), \" \".join(ing2)])\n",
        "        tf1 = vec.transform([\" \".join(ing1)])\n",
        "        tf2 = vec.transform([\" \".join(ing2)])\n",
        "        cosine_sim = cosine_similarity(tf1, tf2)[0][0]\n",
        "    except:\n",
        "        cosine_sim = 0.0\n",
        "\n",
        "    return [len_diff, shared, jaccard, cosine_sim]\n",
        "\n",
        "print(\"Feature engineering function ready!\")\n",
        "print(\"   Features: len_diff, shared_ingredients, jaccard, cosine_sim\")\n"
      ]
    },
    {
      "cell_type": "markdown",
      "source": [
        "# Generate COMPATIBLE Pairs (Label = 1)"
      ],
      "metadata": {
        "id": "rfrRvMStcdr5"
      }
    },
    {
      "cell_type": "code",
      "execution_count": 4,
      "metadata": {
        "colab": {
          "base_uri": "https://localhost:8080/"
        },
        "id": "5nN3Tylhb7UE",
        "outputId": "9e5c6aed-dd26-4674-9a4f-7be128aad7bd"
      },
      "outputs": [
        {
          "output_type": "stream",
          "name": "stdout",
          "text": [
            "Generating COMPATIBLE pairs...\n",
            "   Criteria: shared ingredients > 0 AND no conflicts\n"
          ]
        },
        {
          "output_type": "stream",
          "name": "stderr",
          "text": [
            "Compatible:   0%|          | 3/2610 [00:04<1:12:03,  1.66s/it]"
          ]
        },
        {
          "output_type": "stream",
          "name": "stdout",
          "text": [
            "Generated 2000 compatible pairs\n"
          ]
        },
        {
          "output_type": "stream",
          "name": "stderr",
          "text": [
            "\n"
          ]
        }
      ],
      "source": [
        "import random\n",
        "\n",
        "print(\"Generating COMPATIBLE pairs...\")\n",
        "print(\"   Criteria: shared ingredients > 0 AND no conflicts\")\n",
        "\n",
        "compatible_pairs = []\n",
        "sample_size = min(3000, len(df_products))\n",
        "sampled_df = df_products.sample(n=sample_size, random_state=42)\n",
        "\n",
        "for idx, row in tqdm(sampled_df.iterrows(), total=len(sampled_df), desc=\"Compatible\"):\n",
        "    ing1 = row['parsed_ingredients']\n",
        "\n",
        "    for _, row2 in sampled_df.iterrows():\n",
        "        if row['product_name'] == row2['product_name']:\n",
        "            continue\n",
        "\n",
        "        ing2 = row2['parsed_ingredients']\n",
        "        shared = len(set(ing1) & set(ing2))\n",
        "\n",
        "        # Kriteria: shared > 0 AND tidak ada conflict\n",
        "        if shared > 0 and not has_conflict(ing1, ing2):\n",
        "            features = calculate_features(ing1, ing2)\n",
        "            compatible_pairs.append(features + [1])  # label = 1 (compatible)\n",
        "\n",
        "            if len(compatible_pairs) >= 2000:\n",
        "                break\n",
        "\n",
        "    if len(compatible_pairs) >= 2000:\n",
        "        break\n",
        "\n",
        "print(f\"Generated {len(compatible_pairs)} compatible pairs\")\n"
      ]
    },
    {
      "cell_type": "markdown",
      "source": [
        "# Generate INCOMPATIBLE Pairs (Label = 0)"
      ],
      "metadata": {
        "id": "LxBg80f6c7tU"
      }
    },
    {
      "cell_type": "code",
      "execution_count": 5,
      "metadata": {
        "colab": {
          "base_uri": "https://localhost:8080/"
        },
        "id": "Y6UzgxkNcwHM",
        "outputId": "03356504-f7d9-4445-c576-c3c4d420c674"
      },
      "outputs": [
        {
          "output_type": "stream",
          "name": "stdout",
          "text": [
            "Generating INCOMPATIBLE pairs...\n",
            "   Strategy 1: Detecting conflict pairs...\n"
          ]
        },
        {
          "output_type": "stream",
          "name": "stderr",
          "text": [
            "Conflicts: 100%|██████████| 2610/2610 [07:26<00:00,  5.85it/s]\n"
          ]
        },
        {
          "output_type": "stream",
          "name": "stdout",
          "text": [
            "   Found 0 conflict-based pairs\n",
            "   Strategy 2: Finding pairs with no overlap...\n"
          ]
        },
        {
          "output_type": "stream",
          "name": "stderr",
          "text": [
            "No Overlap:   0%|          | 1/2610 [00:03<2:23:37,  3.30s/it]"
          ]
        },
        {
          "output_type": "stream",
          "name": "stdout",
          "text": [
            "Total incompatible pairs: 2000\n"
          ]
        },
        {
          "output_type": "stream",
          "name": "stderr",
          "text": [
            "\n"
          ]
        }
      ],
      "source": [
        "print(\"Generating INCOMPATIBLE pairs...\")\n",
        "incompatible_pairs = []\n",
        "\n",
        "# Strategy 1: Pairs with conflicting ingredients\n",
        "print(\"   Strategy 1: Detecting conflict pairs...\")\n",
        "for idx, row in tqdm(sampled_df.iterrows(), total=len(sampled_df), desc=\"Conflicts\"):\n",
        "    ing1 = row['parsed_ingredients']\n",
        "\n",
        "    for _, row2 in sampled_df.iterrows():\n",
        "        if row['product_name'] == row2['product_name']:\n",
        "            continue\n",
        "\n",
        "        ing2 = row2['parsed_ingredients']\n",
        "\n",
        "        # If conflict detected, mark as incompatible\n",
        "        if has_conflict(ing1, ing2):\n",
        "            features = calculate_features(ing1, ing2)\n",
        "            incompatible_pairs.append(features + [0])  # label = 0 (incompatible)\n",
        "\n",
        "            if len(incompatible_pairs) >= 1000:\n",
        "                break\n",
        "\n",
        "    if len(incompatible_pairs) >= 1000:\n",
        "        break\n",
        "\n",
        "print(f\"   Found {len(incompatible_pairs)} conflict-based pairs\")\n",
        "\n",
        "# Strategy 2: Pairs with no shared ingredients\n",
        "print(\"   Strategy 2: Finding pairs with no overlap...\")\n",
        "for idx, row in tqdm(sampled_df.iterrows(), total=len(sampled_df), desc=\"No Overlap\"):\n",
        "    ing1 = row['parsed_ingredients']\n",
        "\n",
        "    for _, row2 in sampled_df.iterrows():\n",
        "        if row['product_name'] == row2['product_name']:\n",
        "            continue\n",
        "\n",
        "        ing2 = row2['parsed_ingredients']\n",
        "        shared = len(set(ing1) & set(ing2))\n",
        "\n",
        "        # No shared ingredients = potentially incompatible\n",
        "        if shared == 0:\n",
        "            features = calculate_features(ing1, ing2)\n",
        "            incompatible_pairs.append(features + [0])  # label = 0\n",
        "\n",
        "            if len(incompatible_pairs) >= 2000:\n",
        "                break\n",
        "\n",
        "    if len(incompatible_pairs) >= 2000:\n",
        "        break\n",
        "\n",
        "print(f\"Total incompatible pairs: {len(incompatible_pairs)}\")\n"
      ]
    },
    {
      "cell_type": "markdown",
      "source": [
        "# Balance Dataset & Prepare Training Data"
      ],
      "metadata": {
        "id": "C0EyvJ-XdKUN"
      }
    },
    {
      "cell_type": "code",
      "execution_count": 6,
      "metadata": {
        "colab": {
          "base_uri": "https://localhost:8080/"
        },
        "id": "DAHxx56Uc18p",
        "outputId": "c958b4bd-0005-4063-d927-37b0cacbaa1e"
      },
      "outputs": [
        {
          "output_type": "stream",
          "name": "stdout",
          "text": [
            "Balancing dataset...\n",
            "   Compatible pairs: 2000\n",
            "   Incompatible pairs: 2000\n",
            "   Using 2000 pairs from each class for balance\n",
            "\n",
            "Final Dataset Statistics:\n",
            "   Total samples: 4000\n",
            "   Compatible (1): 2000 (50.0%)\n",
            "   Incompatible (0): 2000 (50.0%)\n",
            "   Features: 4 (len_diff, shared, jaccard, cosine_sim)\n",
            "   Dataset is BALANCED!\n"
          ]
        }
      ],
      "source": [
        "import numpy as np\n",
        "\n",
        "print(\"Balancing dataset...\")\n",
        "min_pairs = min(len(compatible_pairs), len(incompatible_pairs))\n",
        "print(f\"   Compatible pairs: {len(compatible_pairs)}\")\n",
        "print(f\"   Incompatible pairs: {len(incompatible_pairs)}\")\n",
        "print(f\"   Using {min_pairs} pairs from each class for balance\")\n",
        "\n",
        "# Random sampling to balance\n",
        "random.seed(42)\n",
        "compatible_sample = random.sample(compatible_pairs, min_pairs)\n",
        "incompatible_sample = random.sample(incompatible_pairs, min_pairs)\n",
        "\n",
        "# Combine and shuffle\n",
        "all_pairs = compatible_sample + incompatible_sample\n",
        "random.shuffle(all_pairs)\n",
        "\n",
        "# Convert to numpy array\n",
        "data = np.array(all_pairs)\n",
        "X = data[:, :-1].astype(float)  # Features\n",
        "y = data[:, -1].astype(int)     # Labels\n",
        "\n",
        "print(f\"\\nFinal Dataset Statistics:\")\n",
        "print(f\"   Total samples: {len(X)}\")\n",
        "print(f\"   Compatible (1): {np.sum(y == 1)} ({np.sum(y == 1)/len(y)*100:.1f}%)\")\n",
        "print(f\"   Incompatible (0): {np.sum(y == 0)} ({np.sum(y == 0)/len(y)*100:.1f}%)\")\n",
        "print(f\"   Features: {X.shape[1]} (len_diff, shared, jaccard, cosine_sim)\")\n",
        "print(f\"   Dataset is BALANCED!\")\n"
      ]
    },
    {
      "cell_type": "markdown",
      "source": [
        "# TRAIN MODEL with Balanced Data"
      ],
      "metadata": {
        "id": "X_YQ3rmRdSHa"
      }
    },
    {
      "cell_type": "code",
      "execution_count": 7,
      "metadata": {
        "colab": {
          "base_uri": "https://localhost:8080/"
        },
        "id": "ENB16piMargJ",
        "outputId": "8aafe546-db43-4fb9-c081-8bc99b80b03f"
      },
      "outputs": [
        {
          "output_type": "stream",
          "name": "stdout",
          "text": [
            "Splitting data (70% train, 30% test)...\n",
            "   Train: 2800 samples\n",
            "   Test: 1200 samples\n",
            "\n",
            "Training RandomForestClassifier...\n",
            "Training complete!\n",
            "\n",
            "Accuracy:\n",
            "   Train: 100.00%\n",
            "   Test: 100.00%\n",
            "\n",
            "Classification Report (Test Set):\n",
            "                  precision    recall  f1-score   support\n",
            "\n",
            "Incompatible (0)       1.00      1.00      1.00       613\n",
            "  Compatible (1)       1.00      1.00      1.00       587\n",
            "\n",
            "        accuracy                           1.00      1200\n",
            "       macro avg       1.00      1.00      1.00      1200\n",
            "    weighted avg       1.00      1.00      1.00      1200\n",
            "\n",
            "\n",
            "Confusion Matrix (Test Set):\n",
            "   [[TN= 613  FP=   0]\n",
            "    [FN=   0  TP= 587]]\n",
            "\n",
            "   TN = True Negatives (correctly predicted incompatible)\n",
            "   FP = False Positives (incorrectly predicted compatible)\n",
            "   FN = False Negatives (incorrectly predicted incompatible)\n",
            "   TP = True Positives (correctly predicted compatible)\n",
            "\n",
            "Feature Importance:\n",
            "   jaccard        : 0.463 (46.3%)\n",
            "   shared         : 0.440 (44.0%)\n",
            "   cosine_sim     : 0.096 (9.6%)\n",
            "   len_diff       : 0.000 (0.0%)\n"
          ]
        }
      ],
      "source": [
        "from sklearn.model_selection import train_test_split\n",
        "from sklearn.ensemble import RandomForestClassifier\n",
        "from sklearn.metrics import classification_report, accuracy_score, confusion_matrix\n",
        "\n",
        "# Split data\n",
        "print(\"Splitting data (70% train, 30% test)...\")\n",
        "X_train, X_test, y_train, y_test = train_test_split(X, y, test_size=0.3, random_state=42)\n",
        "print(f\"   Train: {len(X_train)} samples\")\n",
        "print(f\"   Test: {len(X_test)} samples\")\n",
        "\n",
        "# Train model\n",
        "print(\"\\nTraining RandomForestClassifier...\")\n",
        "model = RandomForestClassifier(\n",
        "    n_estimators=200,\n",
        "    max_depth=8,\n",
        "    random_state=42,\n",
        "    class_weight='balanced',  # Extra protection against imbalance\n",
        "    n_jobs=-1\n",
        ")\n",
        "model.fit(X_train, y_train)\n",
        "print(\"Training complete!\")\n",
        "\n",
        "# Predictions\n",
        "y_pred_train = model.predict(X_train)\n",
        "y_pred_test = model.predict(X_test)\n",
        "\n",
        "# Accuracy\n",
        "train_acc = accuracy_score(y_train, y_pred_train)\n",
        "test_acc = accuracy_score(y_test, y_pred_test)\n",
        "\n",
        "print(f\"\\nAccuracy:\")\n",
        "print(f\"   Train: {train_acc*100:.2f}%\")\n",
        "print(f\"   Test: {test_acc*100:.2f}%\")\n",
        "\n",
        "# Classification report\n",
        "print(f\"\\nClassification Report (Test Set):\")\n",
        "print(classification_report(y_test, y_pred_test, target_names=['Incompatible (0)', 'Compatible (1)']))\n",
        "\n",
        "# Confusion matrix\n",
        "print(f\"\\nConfusion Matrix (Test Set):\")\n",
        "cm = confusion_matrix(y_test, y_pred_test)\n",
        "print(f\"   [[TN={cm[0,0]:4d}  FP={cm[0,1]:4d}]\")\n",
        "print(f\"    [FN={cm[1,0]:4d}  TP={cm[1,1]:4d}]]\")\n",
        "print(f\"\\n   TN = True Negatives (correctly predicted incompatible)\")\n",
        "print(f\"   FP = False Positives (incorrectly predicted compatible)\")\n",
        "print(f\"   FN = False Negatives (incorrectly predicted incompatible)\")\n",
        "print(f\"   TP = True Positives (correctly predicted compatible)\")\n",
        "\n",
        "# Feature importance\n",
        "print(f\"\\nFeature Importance:\")\n",
        "feature_names = ['len_diff', 'shared', 'jaccard', 'cosine_sim']\n",
        "importances = model.feature_importances_\n",
        "for name, importance in sorted(zip(feature_names, importances), key=lambda x: x[1], reverse=True):\n",
        "    print(f\"   {name:15s}: {importance:.3f} ({importance*100:.1f}%)\")\n"
      ]
    },
    {
      "cell_type": "markdown",
      "source": [
        "# Visualize Data Distribution"
      ],
      "metadata": {
        "id": "Y-lt2R19e_Aw"
      }
    },
    {
      "cell_type": "code",
      "execution_count": 9,
      "metadata": {
        "colab": {
          "base_uri": "https://localhost:8080/",
          "height": 417
        },
        "id": "lSi3_zj1argJ",
        "outputId": "1d4567f6-7f32-4706-a797-58e0b6196612"
      },
      "outputs": [
        {
          "output_type": "display_data",
          "data": {
            "text/plain": [
              "<Figure size 1500x400 with 3 Axes>"
            ],
            "image/png": "[encoded data removed]"
          },
          "metadata": {}
        },
        {
          "output_type": "stream",
          "name": "stdout",
          "text": [
            "Data distribution visualized!\n"
          ]
        }
      ],
      "source": [
        "import matplotlib.pyplot as plt\n",
        "import seaborn as sns\n",
        "\n",
        "# Set style\n",
        "sns.set_style(\"whitegrid\")\n",
        "\n",
        "# Plot 1: Class distribution\n",
        "fig, axes = plt.subplots(1, 3, figsize=(15, 4))\n",
        "\n",
        "# Class balance\n",
        "axes[0].bar(['Incompatible (0)', 'Compatible (1)'], [np.sum(y == 0), np.sum(y == 1)], color=['#e74c3c', '#2ecc71'])\n",
        "axes[0].set_title('Class Distribution (Balanced)', fontsize=14, fontweight='bold')\n",
        "axes[0].set_ylabel('Count')\n",
        "axes[0].grid(axis='y', alpha=0.3)\n",
        "\n",
        "# Feature distributions\n",
        "feature_data = {\n",
        "    'shared': X[:, 1],\n",
        "    'jaccard': X[:, 2],\n",
        "    'cosine_sim': X[:, 3]\n",
        "}\n",
        "\n",
        "feature_data_to_plot = {\n",
        "    'shared': X[:, 1],\n",
        "    'jaccard': X[:, 2],\n",
        "}\n",
        "\n",
        "for i, (feat_name, feat_data) in enumerate(feature_data_to_plot.items(), start=1):\n",
        "    axes[i].hist(feat_data, bins=30, color='#3498db', alpha=0.7, edgecolor='black')\n",
        "    axes[i].set_title(f'{feat_name.replace(\"_\", \" \").title()} Distribution', fontsize=12, fontweight='bold')\n",
        "    axes[i].set_xlabel(feat_name)\n",
        "    axes[i].set_ylabel('Frequency')\n",
        "    axes[i].grid(axis='y', alpha=0.3)\n",
        "\n",
        "plt.tight_layout()\n",
        "plt.show()\n",
        "\n",
        "print(\"Data distribution visualized!\")"
      ]
    },
    {
      "cell_type": "markdown",
      "source": [
        "# Visualize Confusion Matrix & Feature Importance"
      ],
      "metadata": {
        "id": "MbDaGPubfWJe"
      }
    },
    {
      "cell_type": "code",
      "execution_count": 11,
      "metadata": {
        "colab": {
          "base_uri": "https://localhost:8080/",
          "height": 524
        },
        "id": "EEhenHd1argJ",
        "outputId": "f249387f-825f-408a-8b96-d93476dd5acc"
      },
      "outputs": [
        {
          "output_type": "display_data",
          "data": {
            "text/plain": [
              "<Figure size 1400x500 with 2 Axes>"
            ],
            "image/png": "[encoded data removed]"
          },
          "metadata": {}
        },
        {
          "output_type": "stream",
          "name": "stdout",
          "text": [
            "Model evaluation visualized!\n"
          ]
        }
      ],
      "source": [
        "fig, axes = plt.subplots(1, 2, figsize=(14, 5))\n",
        "\n",
        "# Confusion Matrix Heatmap\n",
        "sns.heatmap(cm, annot=True, fmt='d', cmap='Blues', cbar=False, ax=axes[0],\n",
        "            xticklabels=['Incompatible', 'Compatible'],\n",
        "            yticklabels=['Incompatible', 'Compatible'])\n",
        "axes[0].set_title('Confusion Matrix', fontsize=14, fontweight='bold')\n",
        "axes[0].set_ylabel('True Label')\n",
        "axes[0].set_xlabel('Predicted Label')\n",
        "\n",
        "# Feature Importance\n",
        "colors = ['#e74c3c', '#3498db', '#2ecc71', '#f39c12']\n",
        "axes[1].barh(feature_names, importances, color=colors, edgecolor='black')\n",
        "axes[1].set_title('Feature Importance', fontsize=14, fontweight='bold')\n",
        "axes[1].set_xlabel('Importance')\n",
        "axes[1].grid(axis='x', alpha=0.3)\n",
        "\n",
        "# Add percentage labels\n",
        "for i, (name, imp) in enumerate(zip(feature_names, importances)):\n",
        "    axes[1].text(imp + 0.01, i, f'{imp*100:.1f}%', va='center', fontsize=10)\n",
        "\n",
        "plt.tight_layout()\n",
        "plt.show()\n",
        "\n",
        "print(\"Model evaluation visualized!\")\n"
      ]
    },
    {
      "cell_type": "markdown",
      "source": [
        "# SAVE MODEL"
      ],
      "metadata": {
        "id": "cElXjijhfckA"
      }
    },
    {
      "cell_type": "code",
      "execution_count": 12,
      "metadata": {
        "colab": {
          "base_uri": "https://localhost:8080/"
        },
        "id": "5dpjVXm-argJ",
        "outputId": "cdc8c73a-921a-40ff-bd1a-fab2957a8084"
      },
      "outputs": [
        {
          "output_type": "stream",
          "name": "stdout",
          "text": [
            "Model saved to: skincare_model.pkl\n",
            "Model type: RandomForestClassifier\n",
            "Features used: ['len_diff', 'shared', 'jaccard', 'cosine_sim']\n",
            "Test Accuracy: 100.00%\n",
            "\n",
            "This model can predict BOTH compatible AND incompatible products!\n"
          ]
        }
      ],
      "source": [
        "import joblib\n",
        "\n",
        "# Save model\n",
        "model_path = \"skincare_model.pkl\"\n",
        "joblib.dump(model, model_path)\n",
        "\n",
        "print(f\"Model saved to: {model_path}\")\n",
        "print(f\"Model type: {type(model).__name__}\")\n",
        "print(f\"Features used: {feature_names}\")\n",
        "print(f\"Test Accuracy: {test_acc*100:.2f}%\")\n",
        "print(f\"\\nThis model can predict BOTH compatible AND incompatible products!\")\n"
      ]
    },
    {
      "cell_type": "markdown",
      "source": [
        "# PREDICTION FUNCTION"
      ],
      "metadata": {
        "id": "4YdEQ9Byfkk3"
      }
    },
    {
      "cell_type": "code",
      "execution_count": 16,
      "metadata": {
        "colab": {
          "base_uri": "https://localhost:8080/"
        },
        "id": "C69kUC-Jg9Jr",
        "outputId": "c902d0ea-8905-42fb-c1be-f9b7f488e6f7"
      },
      "outputs": [
        {
          "output_type": "stream",
          "name": "stdout",
          "text": [
            "Prediction function ready!\n"
          ]
        }
      ],
      "source": [
        "from difflib import get_close_matches\n",
        "\n",
        "def find_closest_product_name(name, df, cutoff=0.3):\n",
        "    \"\"\"Find closest matching product name using fuzzy matching.\"\"\"\n",
        "    all_names = df[\"product_name\"].tolist()\n",
        "    matches = get_close_matches(name, all_names, n=1, cutoff=cutoff)\n",
        "    return matches[0] if matches else None\n",
        "\n",
        "\n",
        "def predict_compatibility(product_name_1, product_name_2, df=df_products, model=model):\n",
        "    \"\"\"\n",
        "    Predict compatibility between two skincare products.\n",
        "\n",
        "    Parameters:\n",
        "    -----------\n",
        "    product_name_1 : str\n",
        "        First product name (fuzzy matching)\n",
        "    product_name_2 : str\n",
        "        Second product name (fuzzy matching)\n",
        "    df : DataFrame\n",
        "        Product dataset\n",
        "    model : sklearn model\n",
        "        Trained model\n",
        "\n",
        "    Returns:\n",
        "    --------\n",
        "    str : Prediction result with confidence score\n",
        "    \"\"\"\n",
        "    # Find closest product names\n",
        "    name1 = find_closest_product_name(product_name_1, df)\n",
        "    name2 = find_closest_product_name(product_name_2, df)\n",
        "\n",
        "    if not name1 or not name2:\n",
        "        missing = [p for p, n in zip([product_name_1, product_name_2], [name1, name2]) if n is None]\n",
        "        return f\"Product not found: {', '.join(missing)}\"\n",
        "\n",
        "    # Get product data\n",
        "    p1 = df[df[\"product_name\"] == name1].iloc[0]\n",
        "    p2 = df[df[\"product_name\"] == name2].iloc[0]\n",
        "    ing1, ing2 = p1[\"parsed_ingredients\"], p2[\"parsed_ingredients\"]\n",
        "\n",
        "    # Calculate features (same as training)\n",
        "    features = calculate_features(ing1, ing2)\n",
        "    X_new = np.array([features])\n",
        "\n",
        "    # Predict\n",
        "    pred = model.predict(X_new)[0]\n",
        "    proba = model.predict_proba(X_new)[0]\n",
        "    confidence = proba[int(pred)]\n",
        "\n",
        "    # Check for conflicts\n",
        "    conflict_status = \"HAS CONFLICT!\" if has_conflict(ing1, ing2) else \"\"\n",
        "\n",
        "    output = (\n",
        "        f\"\\n{'='*60}\\n\"\n",
        "        f\"Product 1: {name1}\\n\"\n",
        "        f\"Product 2: {name2}\\n\"\n",
        "        f\"{'='*60}\\n\"\n",
        "        f\"Result: {'COMPATIBLE' if pred == 1 else 'INCOMPATIBLE'} {conflict_status}\\n\"\n",
        "        f\"Confidence: {confidence:.1%}\\n\"\n",
        "        f\"Shared Ingredients: {int(features[1])} ingredients\\n\"\n",
        "        f\"Jaccard Similarity: {features[2]:.3f}\\n\"\n",
        "        f\"{'='*60}\"\n",
        "    )\n",
        "\n",
        "    print(output)\n",
        "    return output\n",
        "\n",
        "print(\"Prediction function ready!\")\n"
      ]
    },
    {
      "cell_type": "markdown",
      "source": [
        "# TEST PREDICTIONS"
      ],
      "metadata": {
        "id": "i71vLgs-ft-H"
      }
    },
    {
      "cell_type": "code",
      "execution_count": 17,
      "metadata": {
        "colab": {
          "base_uri": "https://localhost:8080/"
        },
        "id": "BQBrrt_ojit_",
        "outputId": "6ffb4217-06b8-486f-c8f2-fc05add8963c"
      },
      "outputs": [
        {
          "output_type": "stream",
          "name": "stdout",
          "text": [
            "Testing model with various product combinations...\n",
            "\n",
            "============================================================\n",
            "Test 1: Common compatible combination\n",
            "\n",
            "============================================================\n",
            "Product 1: The Concentrate\n",
            "Product 2: Hyaluronic Marine Hydration Booster\n",
            "============================================================\n",
            "Result: COMPATIBLE \n",
            "Confidence: 100.0%\n",
            "Shared Ingredients: 3 ingredients\n",
            "Jaccard Similarity: 0.188\n",
            "============================================================\n",
            "\n",
            "============================================================\n",
            "Test 2: Should be COMPATIBLE (similar products)\n",
            "\n",
            "============================================================\n",
            "Product 1: RetAsphere™ Micro Peel\n",
            "Product 2: The Concentrate\n",
            "============================================================\n",
            "Result: INCOMPATIBLE \n",
            "Confidence: 100.0%\n",
            "Shared Ingredients: 0 ingredients\n",
            "Jaccard Similarity: 0.000\n",
            "============================================================\n",
            "\n",
            "============================================================\n",
            "Test 3: Should be INCOMPATIBLE (conflicting ingredients)\n",
            "Note: If model trained correctly, this should detect conflicts\n",
            "\n",
            "============================================================\n",
            "Product 1: Retinol Fusion PM\n",
            "Product 2: Vitamin C Glow Face Mask\n",
            "============================================================\n",
            "Result: INCOMPATIBLE \n",
            "Confidence: 100.0%\n",
            "Shared Ingredients: 0 ingredients\n",
            "Jaccard Similarity: 0.000\n",
            "============================================================\n",
            "\n",
            "============================================================\n",
            "Test 4: Random test\n",
            "\n",
            "============================================================\n",
            "Product 1: Coconut Ceramide Mask\n",
            "Product 2: Eau Ginseng\n",
            "============================================================\n",
            "Result: INCOMPATIBLE \n",
            "Confidence: 100.0%\n",
            "Shared Ingredients: 0 ingredients\n",
            "Jaccard Similarity: 0.000\n",
            "============================================================\n",
            "\n",
            "============================================================\n",
            "All tests complete!\n",
            "Model should now predict BOTH compatible AND incompatible products correctly!\n"
          ]
        }
      ],
      "source": [
        "print(\"Testing model with various product combinations...\\n\")\n",
        "\n",
        "# Test 1: Should be COMPATIBLE (common combo)\n",
        "print(\"=\" * 60)\n",
        "print(\"Test 1: Common compatible combination\")\n",
        "predict_compatibility(\"cerave\", \"hyaluronic acid\")\n",
        "\n",
        "print(\"\\n\" + \"=\"*60)\n",
        "print(\"Test 2: Should be COMPATIBLE (similar products)\")\n",
        "predict_compatibility(\"cetaphil\", \"cerave\")\n",
        "\n",
        "print(\"\\n\" + \"=\"*60)\n",
        "print(\"Test 3: Should be INCOMPATIBLE (conflicting ingredients)\")\n",
        "print(\"Note: If model trained correctly, this should detect conflicts\")\n",
        "predict_compatibility(\"retinol\", \"vitamin c\")\n",
        "\n",
        "print(\"\\n\" + \"=\"*60)\n",
        "print(\"Test 4: Random test\")\n",
        "predict_compatibility(\"niacinamide\", \"sunscreen\")\n",
        "\n",
        "print(\"\\n\" + \"=\"*60)\n",
        "print(\"All tests complete!\")\n",
        "print(\"Model should now predict BOTH compatible AND incompatible products correctly!\")\n"
      ]
    }
  ],
  "metadata": {
    "colab": {
      "provenance": []
    },
    "kernelspec": {
      "display_name": "Python 3",
      "name": "python3"
    },
    "language_info": {
      "codemirror_mode": {
        "name": "ipython",
        "version": 3
      },
      "file_extension": ".py",
      "mimetype": "text/x-python",
      "name": "python",
      "nbconvert_exporter": "python",
      "pygments_lexer": "ipython3",
      "version": "3.10.11"
    }
  },
  "nbformat": 4,
  "nbformat_minor": 0
}